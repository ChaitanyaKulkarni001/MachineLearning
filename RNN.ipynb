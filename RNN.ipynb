{
  "nbformat": 4,
  "nbformat_minor": 0,
  "metadata": {
    "colab": {
      "provenance": [],
      "authorship_tag": "ABX9TyMoUtKHx8Snlr8tNjvtpGfv",
      "include_colab_link": true
    },
    "kernelspec": {
      "name": "python3",
      "display_name": "Python 3"
    },
    "language_info": {
      "name": "python"
    }
  },
  "cells": [
    {
      "cell_type": "markdown",
      "metadata": {
        "id": "view-in-github",
        "colab_type": "text"
      },
      "source": [
        "<a href=\"https://colab.research.google.com/github/ChaitanyaKulkarni001/MachineLearning/blob/main/RNN.ipynb\" target=\"_parent\"><img src=\"https://colab.research.google.com/assets/colab-badge.svg\" alt=\"Open In Colab\"/></a>"
      ]
    },
    {
      "cell_type": "markdown",
      "source": [
        "# **Recurreny Nueral Network**"
      ],
      "metadata": {
        "id": "XY-gKV8P7MyX"
      }
    },
    {
      "cell_type": "markdown",
      "source": [
        "# Part 1 - Data Preprocessing"
      ],
      "metadata": {
        "id": "Pi_FCYOW7f2y"
      }
    },
    {
      "cell_type": "markdown",
      "source": [
        "importing Libraries"
      ],
      "metadata": {
        "id": "-Vdsakyb7lCa"
      }
    },
    {
      "cell_type": "code",
      "execution_count": 98,
      "metadata": {
        "id": "5E3nUfE25bk8"
      },
      "outputs": [],
      "source": [
        "import pandas as pd\n",
        "import matplotlib.pyplot as plt\n",
        "import numpy as np"
      ]
    },
    {
      "cell_type": "code",
      "source": [
        "# ENV\n",
        "# Number of previous stock prices\n",
        "PreviousStockPrices = 60  # You can Change here and test the results for accuracy\n"
      ],
      "metadata": {
        "id": "K2Ror1J0qkui"
      },
      "execution_count": 99,
      "outputs": []
    },
    {
      "cell_type": "markdown",
      "source": [
        "# **Importing the dataset**"
      ],
      "metadata": {
        "id": "WHKPSRt_7wDn"
      }
    },
    {
      "cell_type": "code",
      "source": [
        "dataset = pd.read_csv (\"Google_Stock_Price_Train.csv\")\n",
        "training_set = dataset.iloc[:,1:2].values"
      ],
      "metadata": {
        "id": "2OINrqzb7zFR"
      },
      "execution_count": 100,
      "outputs": []
    },
    {
      "cell_type": "markdown",
      "source": [
        "# **Feature Scaliing**"
      ],
      "metadata": {
        "id": "TcX2-hIATtvi"
      }
    },
    {
      "cell_type": "code",
      "source": [
        "from sklearn.preprocessing import MinMaxScaler\n",
        "\n",
        "sc= MinMaxScaler( feature_range = (0,1) )\n",
        "training_set_scaled = sc.fit_transform(training_set)\n",
        "\n",
        "# training_set_scaled = sc.fit(training_set)\n",
        "print(training_set_scaled)"
      ],
      "metadata": {
        "colab": {
          "base_uri": "https://localhost:8080/"
        },
        "id": "y2OobnsNTvdo",
        "outputId": "1a6490e0-fd8b-4670-cb5e-5d31364e0bb2"
      },
      "execution_count": 101,
      "outputs": [
        {
          "output_type": "stream",
          "name": "stdout",
          "text": [
            "[[0.08581368]\n",
            " [0.09701243]\n",
            " [0.09433366]\n",
            " ...\n",
            " [0.95725128]\n",
            " [0.93796041]\n",
            " [0.93688146]]\n"
          ]
        }
      ]
    },
    {
      "cell_type": "code",
      "source": [
        "# type(training_set_scaled)\n",
        "# training_set_scaled[ 0:60,0]\n",
        "# X_train\n"
      ],
      "metadata": {
        "id": "bXfTab94HOGf"
      },
      "execution_count": 102,
      "outputs": []
    },
    {
      "cell_type": "code",
      "source": [
        "from os import X_OK\n",
        "X_train = []\n",
        "y_train=[]\n",
        "for i in range(PreviousStockPrices,1258):\n",
        "  X_train.append(training_set_scaled[ i-PreviousStockPrices:i ,0])\n",
        "  y_train.append(training_set_scaled[ i ,0])\n",
        "X_train,y_train = np.array(X_train),np.array(y_train)\n",
        "\n",
        "# print(type(X_train))\n",
        "# print(X_train.size)\n",
        "# print((1258-60 )*60)\n",
        "\n",
        "# X_train[0] # size 60\n"
      ],
      "metadata": {
        "id": "VOKZjDJhed4u"
      },
      "execution_count": 103,
      "outputs": []
    },
    {
      "cell_type": "code",
      "source": [
        "X_train = np.reshape (X_train,(X_train.shape[0],X_train.shape[1],1))\n",
        "X_train"
      ],
      "metadata": {
        "colab": {
          "base_uri": "https://localhost:8080/"
        },
        "id": "nixvNkJMfLCZ",
        "outputId": "4cff329b-dee1-4346-958a-55aca3a4b6f1"
      },
      "execution_count": 104,
      "outputs": [
        {
          "output_type": "execute_result",
          "data": {
            "text/plain": [
              "array([[[0.08581368],\n",
              "        [0.09701243],\n",
              "        [0.09433366],\n",
              "        ...,\n",
              "        [0.06782499],\n",
              "        [0.06823424],\n",
              "        [0.07601012]],\n",
              "\n",
              "       [[0.09701243],\n",
              "        [0.09433366],\n",
              "        [0.09156187],\n",
              "        ...,\n",
              "        [0.06823424],\n",
              "        [0.07601012],\n",
              "        [0.08082819]],\n",
              "\n",
              "       [[0.09433366],\n",
              "        [0.09156187],\n",
              "        [0.07984225],\n",
              "        ...,\n",
              "        [0.07601012],\n",
              "        [0.08082819],\n",
              "        [0.05807724]],\n",
              "\n",
              "       ...,\n",
              "\n",
              "       [[0.917665  ],\n",
              "        [0.91130292],\n",
              "        [0.91811147],\n",
              "        ...,\n",
              "        [0.95475854],\n",
              "        [0.95204256],\n",
              "        [0.95163331]],\n",
              "\n",
              "       [[0.91130292],\n",
              "        [0.91811147],\n",
              "        [0.93176576],\n",
              "        ...,\n",
              "        [0.95204256],\n",
              "        [0.95163331],\n",
              "        [0.95725128]],\n",
              "\n",
              "       [[0.91811147],\n",
              "        [0.93176576],\n",
              "        [0.94402485],\n",
              "        ...,\n",
              "        [0.95163331],\n",
              "        [0.95725128],\n",
              "        [0.93796041]]])"
            ]
          },
          "metadata": {},
          "execution_count": 104
        }
      ]
    },
    {
      "cell_type": "code",
      "source": [
        "X_train[0].size"
      ],
      "metadata": {
        "colab": {
          "base_uri": "https://localhost:8080/"
        },
        "id": "GS-_gO11ETzF",
        "outputId": "d25d6de6-1f7d-4e71-f8b1-85084a17ffbc"
      },
      "execution_count": 105,
      "outputs": [
        {
          "output_type": "execute_result",
          "data": {
            "text/plain": [
              "70"
            ]
          },
          "metadata": {},
          "execution_count": 105
        }
      ]
    },
    {
      "cell_type": "markdown",
      "source": [
        "# **Building RNN**"
      ],
      "metadata": {
        "id": "EISMAPXBJQAd"
      }
    },
    {
      "cell_type": "code",
      "source": [
        "from keras.models import Sequential\n",
        "from keras.layers import Dense, LSTM,Dropout\n"
      ],
      "metadata": {
        "id": "5aj_LvGqIwZu"
      },
      "execution_count": 106,
      "outputs": []
    },
    {
      "cell_type": "code",
      "source": [
        "regressor = Sequential()"
      ],
      "metadata": {
        "id": "7ukr2oKVJPdW"
      },
      "execution_count": 107,
      "outputs": []
    },
    {
      "cell_type": "code",
      "source": [
        "regressor.add(LSTM(units=50 , return_sequences = True, input_shape = (X_train.shape[1],1)))\n",
        "regressor.add(Dropout(0.2))"
      ],
      "metadata": {
        "colab": {
          "base_uri": "https://localhost:8080/"
        },
        "id": "83gatG90VMX0",
        "outputId": "fa4d9bae-67af-4c53-9def-389bacfbac68"
      },
      "execution_count": 108,
      "outputs": [
        {
          "output_type": "stream",
          "name": "stderr",
          "text": [
            "/usr/local/lib/python3.11/dist-packages/keras/src/layers/rnn/rnn.py:200: UserWarning: Do not pass an `input_shape`/`input_dim` argument to a layer. When using Sequential models, prefer using an `Input(shape)` object as the first layer in the model instead.\n",
            "  super().__init__(**kwargs)\n"
          ]
        }
      ]
    },
    {
      "cell_type": "code",
      "source": [
        "regressor.add(LSTM(units=50 , return_sequences = True))\n",
        "regressor.add(Dropout(0.2))"
      ],
      "metadata": {
        "id": "ThYkl5o69NdR"
      },
      "execution_count": 109,
      "outputs": []
    },
    {
      "cell_type": "code",
      "source": [
        "regressor.add(LSTM(units=50 , return_sequences = True))\n",
        "regressor.add(Dropout(0.2))"
      ],
      "metadata": {
        "id": "zn5Y6G5g9RUT"
      },
      "execution_count": 110,
      "outputs": []
    },
    {
      "cell_type": "code",
      "source": [
        "regressor.add(LSTM(units=50))\n",
        "regressor.add(Dropout(0.2))  # We Built this Model using 4 layers but we can increase by adding the same cell multiple time"
      ],
      "metadata": {
        "id": "lzeCrI4T9UZg"
      },
      "execution_count": 111,
      "outputs": []
    },
    {
      "cell_type": "code",
      "source": [
        "regressor.add(Dense(units=1))"
      ],
      "metadata": {
        "id": "KuBLkR9J9wPQ"
      },
      "execution_count": 112,
      "outputs": []
    },
    {
      "cell_type": "markdown",
      "source": [
        "# **Complile The RNN**\n"
      ],
      "metadata": {
        "id": "zu7YjujKLjAs"
      }
    },
    {
      "cell_type": "code",
      "source": [
        "regressor.compile(optimizer='adam', loss=\"mean_squared_error\")\n"
      ],
      "metadata": {
        "id": "UhIv_PN1LkuY"
      },
      "execution_count": 113,
      "outputs": []
    },
    {
      "cell_type": "markdown",
      "source": [
        "# **Fitting the RNN on training set**"
      ],
      "metadata": {
        "id": "8ac39iR9Oizx"
      }
    },
    {
      "cell_type": "code",
      "source": [
        "regressor.fit(X_train,y_train,epochs=100,batch_size=32)"
      ],
      "metadata": {
        "colab": {
          "base_uri": "https://localhost:8080/"
        },
        "id": "i9jWLE5vOmVT",
        "outputId": "4ebc399b-1c37-4477-9551-aadc52e0647e"
      },
      "execution_count": null,
      "outputs": [
        {
          "output_type": "stream",
          "name": "stdout",
          "text": [
            "Epoch 1/100\n",
            "\u001b[1m38/38\u001b[0m \u001b[32m━━━━━━━━━━━━━━━━━━━━\u001b[0m\u001b[37m\u001b[0m \u001b[1m12s\u001b[0m 111ms/step - loss: 0.0834\n",
            "Epoch 2/100\n",
            "\u001b[1m38/38\u001b[0m \u001b[32m━━━━━━━━━━━━━━━━━━━━\u001b[0m\u001b[37m\u001b[0m \u001b[1m5s\u001b[0m 139ms/step - loss: 0.0060\n",
            "Epoch 3/100\n",
            "\u001b[1m38/38\u001b[0m \u001b[32m━━━━━━━━━━━━━━━━━━━━\u001b[0m\u001b[37m\u001b[0m \u001b[1m4s\u001b[0m 114ms/step - loss: 0.0058\n",
            "Epoch 4/100\n",
            "\u001b[1m38/38\u001b[0m \u001b[32m━━━━━━━━━━━━━━━━━━━━\u001b[0m\u001b[37m\u001b[0m \u001b[1m5s\u001b[0m 112ms/step - loss: 0.0054\n",
            "Epoch 5/100\n",
            "\u001b[1m16/38\u001b[0m \u001b[32m━━━━━━━━\u001b[0m\u001b[37m━━━━━━━━━━━━\u001b[0m \u001b[1m2s\u001b[0m 134ms/step - loss: 0.0055"
          ]
        }
      ]
    },
    {
      "cell_type": "code",
      "source": [
        "dataset_test = pd.read_csv (\"Google_Stock_Price_Test.csv\")\n",
        "actualStockPrice = dataset_test.iloc[:,1:2].values"
      ],
      "metadata": {
        "id": "M43kmcVM9SkH"
      },
      "execution_count": null,
      "outputs": []
    },
    {
      "cell_type": "code",
      "source": [
        "dataset_total = pd.concat((dataset['Open'],dataset_test['Open']),axis=0)"
      ],
      "metadata": {
        "id": "CShEgeqE-ym7"
      },
      "execution_count": null,
      "outputs": []
    },
    {
      "cell_type": "markdown",
      "source": [
        "Horizontal - axis 1\n",
        "Vertical concate axis 0"
      ],
      "metadata": {
        "id": "-CvMSRSgHYi-"
      }
    },
    {
      "cell_type": "code",
      "source": [
        "inputs = dataset_total[ len(dataset_total)-len(dataset_test)-PreviousStockPrices :].values\n",
        "#  dataset_total[len(dataset_total) - len(dataset_test) - 60:].values"
      ],
      "metadata": {
        "id": "1_Vczw95KLyY"
      },
      "execution_count": null,
      "outputs": []
    },
    {
      "cell_type": "code",
      "source": [
        "print(len(inputs))\n",
        "print(len(dataset_test))"
      ],
      "metadata": {
        "id": "zjOEu-oNKiym"
      },
      "execution_count": null,
      "outputs": []
    },
    {
      "cell_type": "code",
      "source": [
        "print(inputs)\n",
        "inputs = inputs.reshape(-1,1)\n"
      ],
      "metadata": {
        "id": "wJuv7WWVPb1o"
      },
      "execution_count": null,
      "outputs": []
    },
    {
      "cell_type": "code",
      "source": [
        "# inputs.reshape(-1,1)\n",
        "inputs = sc.transform (inputs)"
      ],
      "metadata": {
        "id": "ccSL9lrDQIM_"
      },
      "execution_count": null,
      "outputs": []
    },
    {
      "cell_type": "code",
      "source": [
        "X_test = []\n",
        "for i in range(PreviousStockPrices,80):\n",
        "  X_test.append(inputs[i-PreviousStockPrices:i])\n",
        "\n",
        "X_test = np.array(X_test)\n",
        "X_test = np.reshape(X_test,(X_test.shape[0],X_test.shape[1],1))\n"
      ],
      "metadata": {
        "id": "uxSDQOtUUfgd"
      },
      "execution_count": null,
      "outputs": []
    },
    {
      "cell_type": "code",
      "source": [
        "prediction = regressor.predict(X_test)\n",
        "prediction = sc.inverse_transform(prediction)"
      ],
      "metadata": {
        "id": "wgT3eDhrUjgb"
      },
      "execution_count": null,
      "outputs": []
    },
    {
      "cell_type": "code",
      "source": [
        "print(prediction)"
      ],
      "metadata": {
        "id": "7nmqCtC3U1if"
      },
      "execution_count": null,
      "outputs": []
    },
    {
      "cell_type": "code",
      "source": [
        "print(actualStockPrice)"
      ],
      "metadata": {
        "id": "9YXeF4OXVCYv"
      },
      "execution_count": null,
      "outputs": []
    },
    {
      "cell_type": "markdown",
      "source": [
        "# **Vizualization**"
      ],
      "metadata": {
        "id": "ns1XMOdapehk"
      }
    },
    {
      "cell_type": "code",
      "source": [
        "plt.plot(actualStockPrice,color='red')\n",
        "plt.plot(prediction,color='blue')\n",
        "plt.title(\"Google Stock Predicion\")\n",
        "plt.xlabel(\"Time\")\n",
        "plt.ylabel(\"Price\")\n",
        "plt.legend()\n",
        "plt.show()\n"
      ],
      "metadata": {
        "id": "DCXP8c5sZ0wu"
      },
      "execution_count": null,
      "outputs": []
    }
  ]
}