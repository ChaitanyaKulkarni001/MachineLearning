{
  "nbformat": 4,
  "nbformat_minor": 0,
  "metadata": {
    "colab": {
      "provenance": [],
      "authorship_tag": "ABX9TyOUHHxO9T6uFJ8MNeIwce3y",
      "include_colab_link": true
    },
    "kernelspec": {
      "name": "python3",
      "display_name": "Python 3"
    },
    "language_info": {
      "name": "python"
    }
  },
  "cells": [
    {
      "cell_type": "markdown",
      "metadata": {
        "id": "view-in-github",
        "colab_type": "text"
      },
      "source": [
        "<a href=\"https://colab.research.google.com/github/ChaitanyaKulkarni001/MachineLearning/blob/collab/experiment_no1.ipynb\" target=\"_parent\"><img src=\"https://colab.research.google.com/assets/colab-badge.svg\" alt=\"Open In Colab\"/></a>"
      ]
    },
    {
      "cell_type": "markdown",
      "source": [
        "Hey this is comment"
      ],
      "metadata": {
        "id": "jE2Kh5U8fEJ5"
      }
    },
    {
      "cell_type": "code",
      "source": [
        "len = int(input(\"Enter Length : \"))\n",
        "hei = int(input(\"Enter Height : \"))\n",
        "area = 0.5*len*hei\n",
        "print(\"Area of your traingle is \",area)"
      ],
      "metadata": {
        "id": "yUKauOMJbSwp",
        "colab": {
          "base_uri": "https://localhost:8080/"
        },
        "outputId": "46c3e159-f9d2-4d34-9c88-860a423c4c9c"
      },
      "execution_count": null,
      "outputs": [
        {
          "output_type": "stream",
          "name": "stdout",
          "text": [
            "Enter Length : 45\n",
            "Enter Height : 23\n",
            "Area of your traingle is  517.5\n"
          ]
        }
      ]
    }
  ]
}